{
 "cells": [
  {
   "attachments": {},
   "cell_type": "markdown",
   "metadata": {},
   "source": [
    "# Extracting a single value\n",
    "\n",
    "## By square bracket notation\n",
    "\n",
    "We can extract a single value by using the square bracket notation twice.  For example, I can get the 11,000th value from the rainfall amount column like this.a row or a column from a data frame/series.  This is a simple consequence of the fact that square bracket notation works on both data frames _and_ series.  The left-most one is working on a data frame and returning a series, the second one is working on the series.\n"
   ]
  },
  {
   "cell_type": "code",
   "execution_count": 4,
   "metadata": {},
   "outputs": [
    {
     "name": "stdout",
     "output_type": "stream",
     "text": [
      "0.5\n"
     ]
    }
   ],
   "source": [
    "import pandas as pd\n",
    "\n",
    "wentworth = pd.read_csv(\"data/rainfall/IDCJAC0009_047045_1800_Data.csv\")\n",
    "print(wentworth[\"Rainfall amount (millimetres)\"][11000])"
   ]
  },
  {
   "attachments": {},
   "cell_type": "markdown",
   "metadata": {},
   "source": [
    "## By Summarising\n",
    "\n",
    "Pandas provides some \"magic\" when it comes to summarising columns.  Series have a set of \"methods\" attached to them that you can call any time you like to get summaries.  Note that these summaries work on Series, so you should extract them first.  Examples are:\n",
    "  * add up all elements (`sum`)\n",
    "  * calculate the average (`mean`) or mode (`mode`)\n",
    "  * find the largest (`max`) or smallest (`min`)."
   ]
  },
  {
   "cell_type": "code",
   "execution_count": 10,
   "metadata": {},
   "outputs": [
    {
     "name": "stdout",
     "output_type": "stream",
     "text": [
      "22346.199999999997\n",
      "0.6992802603579922\n",
      "113.0\n",
      "0.0\n"
     ]
    }
   ],
   "source": [
    "import pandas as pd\n",
    "\n",
    "wentworth = pd.read_csv(\"data/rainfall/IDCJAC0009_047045_1800_Data.csv\")\n",
    "#print(wentworth[\"Rainfall amount (millimetres)\"][11000])\n",
    "#print(wentworth)\n",
    "print(wentworth[\"Rainfall amount (millimetres)\"].sum())\n",
    "# Exercise, try out mean, mode, min, and max\n",
    "print(wentworth[\"Rainfall amount (millimetres)\"].mean())\n",
    "print(wentworth[\"Rainfall amount (millimetres)\"].max())\n",
    "print(wentworth[\"Rainfall amount (millimetres)\"].min())\n"
   ]
  },
  {
   "attachments": {},
   "cell_type": "markdown",
   "metadata": {},
   "source": [
    "# Example\n",
    "\n",
    "What is the largest rainfall day for Richmond RAAF base (which is in the file `data/rainfall/IDCJAC0009_067105_1800_Data.csv`)?\n",
    "\n",
    "Which of our rainfall files has the highest average rainfall?"
   ]
  },
  {
   "cell_type": "code",
   "execution_count": 12,
   "metadata": {},
   "outputs": [
    {
     "name": "stdout",
     "output_type": "stream",
     "text": [
      "      Product code  Bureau of Meteorology station number  Year  Month  Day  \\\n",
      "0       IDCJAC0009                                 47045  1933      1    1   \n",
      "1       IDCJAC0009                                 47045  1933      1    2   \n",
      "2       IDCJAC0009                                 47045  1933      1    3   \n",
      "3       IDCJAC0009                                 47045  1933      1    4   \n",
      "4       IDCJAC0009                                 47045  1933      1    5   \n",
      "...            ...                                   ...   ...    ...  ...   \n",
      "32288   IDCJAC0009                                 47045  2021      5   27   \n",
      "32289   IDCJAC0009                                 47045  2021      5   28   \n",
      "32290   IDCJAC0009                                 47045  2021      5   29   \n",
      "32291   IDCJAC0009                                 47045  2021      5   30   \n",
      "32292   IDCJAC0009                                 47045  2021      5   31   \n",
      "\n",
      "       Rainfall amount (millimetres)  \\\n",
      "0                                NaN   \n",
      "1                                NaN   \n",
      "2                                NaN   \n",
      "3                                NaN   \n",
      "4                                NaN   \n",
      "...                              ...   \n",
      "32288                            0.0   \n",
      "32289                            0.0   \n",
      "32290                            0.0   \n",
      "32291                            0.0   \n",
      "32292                            0.0   \n",
      "\n",
      "       Period over which rainfall was measured (days) Quality  \n",
      "0                                                 NaN     NaN  \n",
      "1                                                 NaN     NaN  \n",
      "2                                                 NaN     NaN  \n",
      "3                                                 NaN     NaN  \n",
      "4                                                 NaN     NaN  \n",
      "...                                               ...     ...  \n",
      "32288                                             NaN       N  \n",
      "32289                                             NaN       N  \n",
      "32290                                             NaN       N  \n",
      "32291                                             NaN       N  \n",
      "32292                                             NaN       N  \n",
      "\n",
      "[32293 rows x 8 columns]\n"
     ]
    }
   ],
   "source": [
    "import pandas as pd\n",
    "\n",
    "wentworth = pd.read_csv(\"data/rainfall/IDCJAC0009_047045_1800_Data.csv\")\n",
    "print(wentworth)"
   ]
  },
  {
   "attachments": {},
   "cell_type": "markdown",
   "metadata": {},
   "source": [
    "# Exercise\n",
    "\n",
    "What is the total rainfall recorded for Meriwagga (rainfall file 075167)?  What is the maximum and minimum rainfall on any one day?  I am sure you can guess the minimum, but what code will give it to you?"
   ]
  },
  {
   "attachments": {},
   "cell_type": "markdown",
   "metadata": {},
   "source": [
    "## By `loc` and `iloc`\n",
    "\n",
    "We've seen how to recover a Series from a DataFrame - i.e. how to extract a column.\n",
    "\n",
    "Lets see how to extract a row.\n",
    "\n",
    "It is important to realise that, since DataFrames are built from Series, it is somewhat awkward to pull out a single row.  In effect, we are asking for pandas to visit each Series and grab the value at a particular index.\n",
    "\n",
    "Instead of doing this though, we will use the `loc` functionality of pandas.\n",
    "\n",
    "`loc` and `iloc` are functions that can get columns _or rows_.  `loc` goes by column name when getting columns and by index when getting rows.  `iloc` goes by the order of the column when getting columns and the order of the row when getting rows.\n",
    "\n",
    "`loc` and `iloc` actually take two parameters to look up both axis at once."
   ]
  },
  {
   "cell_type": "code",
   "execution_count": 13,
   "metadata": {},
   "outputs": [
    {
     "data": {
      "text/plain": [
       "0.0"
      ]
     },
     "execution_count": 13,
     "metadata": {},
     "output_type": "execute_result"
    }
   ],
   "source": [
    "wentworth.loc[1110, \"Rainfall amount (millimetres)\"]"
   ]
  },
  {
   "cell_type": "markdown",
   "metadata": {},
   "source": [
    "but (as you can see) does it _row first_.  This means if we only give one, they will look up by row and give you back a series for that row.  It looks like the table was \"flipped\", but that is not really what happens."
   ]
  },
  {
   "cell_type": "code",
   "execution_count": 21,
   "metadata": {},
   "outputs": [
    {
     "data": {
      "text/plain": [
       "Product code                                      IDCJAC0009\n",
       "Bureau of Meteorology station number                   47045\n",
       "Year                                                    1936\n",
       "Month                                                      1\n",
       "Day                                                       16\n",
       "Rainfall amount (millimetres)                            0.0\n",
       "Period over which rainfall was measured (days)           NaN\n",
       "Quality                                                    Y\n",
       "Name: 1110, dtype: object"
      ]
     },
     "execution_count": 21,
     "metadata": {},
     "output_type": "execute_result"
    }
   ],
   "source": [
    "wentworth.loc[1110]"
   ]
  },
  {
   "attachments": {},
   "cell_type": "markdown",
   "metadata": {},
   "source": [
    "# Example\n",
    "\n",
    "What was the rainfall for the 1st May 2019 in Richmond RAF?"
   ]
  },
  {
   "attachments": {},
   "cell_type": "markdown",
   "metadata": {},
   "source": [
    "# Exercise\n",
    "\n",
    "What is the title of the 6th row in the `workouts.csv` file?"
   ]
  },
  {
   "cell_type": "code",
   "execution_count": 24,
   "metadata": {},
   "outputs": [
    {
     "name": "stdout",
     "output_type": "stream",
     "text": [
      "Title                       low and slow\n",
      "WorkoutType                         Bike\n",
      "WorkoutDescription                   NaN\n",
      "PlannedDuration                      4.0\n",
      "PlannedDistanceInMeters              NaN\n",
      "WorkoutDay                    2022-02-13\n",
      "CoachComments                        NaN\n",
      "DistanceInMeters           104562.421875\n",
      "PowerAverage                         NaN\n",
      "PowerMax                             NaN\n",
      "Energy                               NaN\n",
      "AthleteComments                      NaN\n",
      "TimeTotalInHours                4.428611\n",
      "VelocityAverage                    6.559\n",
      "VelocityMax                          NaN\n",
      "CadenceAverage                       NaN\n",
      "CadenceMax                           NaN\n",
      "HeartRateAverage                   132.0\n",
      "HeartRateMax                       174.0\n",
      "TorqueAverage                        NaN\n",
      "TorqueMax                            NaN\n",
      "IF                              0.639547\n",
      "TSS                               208.27\n",
      "HRZone1Minutes                      23.0\n",
      "HRZone2Minutes                      41.0\n",
      "HRZone3Minutes                     108.0\n",
      "HRZone4Minutes                      64.0\n",
      "HRZone5Minutes                      25.0\n",
      "HRZone6Minutes                       5.0\n",
      "HRZone7Minutes                       0.0\n",
      "HRZone8Minutes                       NaN\n",
      "HRZone9Minutes                       NaN\n",
      "HRZone10Minutes                      NaN\n",
      "PWRZone1Minutes                      NaN\n",
      "PWRZone2Minutes                      NaN\n",
      "PWRZone3Minutes                      NaN\n",
      "PWRZone4Minutes                      NaN\n",
      "PWRZone5Minutes                      NaN\n",
      "PWRZone6Minutes                      NaN\n",
      "PWRZone7Minutes                      NaN\n",
      "PWRZone8Minutes                      NaN\n",
      "PWRZone9Minutes                      NaN\n",
      "PWRZone10Minutes                     NaN\n",
      "Rpe                                  6.0\n",
      "Feeling                              5.0\n",
      "Name: 6, dtype: object\n",
      "-----------------\n",
      "                  Title WorkoutType  \\\n",
      "0             Race Pace        Bike   \n",
      "1               Cycling        Bike   \n",
      "2          low and slow        Bike   \n",
      "3          Full Pyramid        Bike   \n",
      "4             Race Pace        Bike   \n",
      "..                  ...         ...   \n",
      "410     La Reve shorter        Bike   \n",
      "411  Group ride + extra        Bike   \n",
      "413             Cycling        Bike   \n",
      "414             Cycling        Bike   \n",
      "417             Cycling        Bike   \n",
      "\n",
      "                                    WorkoutDescription  PlannedDuration  \\\n",
      "0                                                  NaN         2.000000   \n",
      "1                                                  NaN              NaN   \n",
      "2                                                  NaN         4.000000   \n",
      "3                                                  NaN         0.716667   \n",
      "4                                                  NaN         2.000000   \n",
      "..                                                 ...              ...   \n",
      "410                           Just easy 60-90 minutes.         1.500000   \n",
      "411  Can move this around as you need. I know the b...         5.000000   \n",
      "413                                                NaN              NaN   \n",
      "414                                                NaN              NaN   \n",
      "417                                                NaN              NaN   \n",
      "\n",
      "     PlannedDistanceInMeters  WorkoutDay CoachComments  DistanceInMeters  \\\n",
      "0                        NaN  2022-02-03           NaN      30538.740234   \n",
      "1                        NaN  2022-02-03           NaN      10454.900391   \n",
      "2                        NaN  2022-02-05           NaN      91723.187500   \n",
      "3                        NaN  2022-02-08           NaN       9727.099609   \n",
      "4                        NaN  2022-02-10           NaN      27693.320312   \n",
      "..                       ...         ...           ...               ...   \n",
      "410                      NaN  2023-01-28           NaN               NaN   \n",
      "411                      NaN  2023-01-29           NaN     111571.843750   \n",
      "413                      NaN  2023-01-31           NaN      34568.859375   \n",
      "414                      NaN  2023-02-01           NaN      11358.400391   \n",
      "417                      NaN  2023-02-02           NaN      10590.219727   \n",
      "\n",
      "     PowerAverage  PowerMax  ...  PWRZone3Minutes PWRZone4Minutes  \\\n",
      "0             NaN       NaN  ...              NaN             NaN   \n",
      "1             NaN       NaN  ...              NaN             NaN   \n",
      "2             NaN       NaN  ...              NaN             NaN   \n",
      "3             NaN       NaN  ...              NaN             NaN   \n",
      "4             NaN       NaN  ...              NaN             NaN   \n",
      "..            ...       ...  ...              ...             ...   \n",
      "410           NaN       NaN  ...              NaN             NaN   \n",
      "411           NaN       NaN  ...              NaN             NaN   \n",
      "413           NaN       NaN  ...              NaN             NaN   \n",
      "414           NaN       NaN  ...              NaN             NaN   \n",
      "417           NaN       NaN  ...              NaN             NaN   \n",
      "\n",
      "     PWRZone5Minutes  PWRZone6Minutes  PWRZone7Minutes  PWRZone8Minutes  \\\n",
      "0                NaN              NaN              NaN              NaN   \n",
      "1                NaN              NaN              NaN              NaN   \n",
      "2                NaN              NaN              NaN              NaN   \n",
      "3                NaN              NaN              NaN              NaN   \n",
      "4                NaN              NaN              NaN              NaN   \n",
      "..               ...              ...              ...              ...   \n",
      "410              NaN              NaN              NaN              NaN   \n",
      "411              NaN              NaN              NaN              NaN   \n",
      "413              NaN              NaN              NaN              NaN   \n",
      "414              NaN              NaN              NaN              NaN   \n",
      "417              NaN              NaN              NaN              NaN   \n",
      "\n",
      "     PWRZone9Minutes  PWRZone10Minutes  Rpe  Feeling  \n",
      "0                NaN               NaN  NaN      NaN  \n",
      "1                NaN               NaN  NaN      NaN  \n",
      "2                NaN               NaN  2.0      3.0  \n",
      "3                NaN               NaN  9.0      1.0  \n",
      "4                NaN               NaN  8.0      7.0  \n",
      "..               ...               ...  ...      ...  \n",
      "410              NaN               NaN  NaN      NaN  \n",
      "411              NaN               NaN  NaN      NaN  \n",
      "413              NaN               NaN  NaN      NaN  \n",
      "414              NaN               NaN  NaN      NaN  \n",
      "417              NaN               NaN  NaN      NaN  \n",
      "\n",
      "[225 rows x 45 columns]\n",
      "=================\n",
      "Title                      Full Pyramid\n",
      "WorkoutType                        Bike\n",
      "WorkoutDescription                  NaN\n",
      "PlannedDuration                0.716667\n",
      "PlannedDistanceInMeters             NaN\n",
      "WorkoutDay                   2022-02-08\n",
      "CoachComments                       NaN\n",
      "DistanceInMeters            9727.099609\n",
      "PowerAverage                        NaN\n",
      "PowerMax                            NaN\n",
      "Energy                              NaN\n",
      "AthleteComments                     NaN\n",
      "TimeTotalInHours               0.792778\n",
      "VelocityAverage                   3.408\n",
      "VelocityMax                         NaN\n",
      "CadenceAverage                      NaN\n",
      "CadenceMax                          NaN\n",
      "HeartRateAverage                  135.0\n",
      "HeartRateMax                      181.0\n",
      "TorqueAverage                       NaN\n",
      "TorqueMax                           NaN\n",
      "IF                             0.718645\n",
      "TSS                               45.09\n",
      "HRZone1Minutes                      7.0\n",
      "HRZone2Minutes                      7.0\n",
      "HRZone3Minutes                     15.0\n",
      "HRZone4Minutes                      6.0\n",
      "HRZone5Minutes                      3.0\n",
      "HRZone6Minutes                      3.0\n",
      "HRZone7Minutes                      7.0\n",
      "HRZone8Minutes                      NaN\n",
      "HRZone9Minutes                      NaN\n",
      "HRZone10Minutes                     NaN\n",
      "PWRZone1Minutes                     NaN\n",
      "PWRZone2Minutes                     NaN\n",
      "PWRZone3Minutes                     NaN\n",
      "PWRZone4Minutes                     NaN\n",
      "PWRZone5Minutes                     NaN\n",
      "PWRZone6Minutes                     NaN\n",
      "PWRZone7Minutes                     NaN\n",
      "PWRZone8Minutes                     NaN\n",
      "PWRZone9Minutes                     NaN\n",
      "PWRZone10Minutes                    NaN\n",
      "Rpe                                 9.0\n",
      "Feeling                             1.0\n",
      "Name: 3, dtype: object\n",
      "0      Bike\n",
      "1      Bike\n",
      "2      Bike\n",
      "3      Bike\n",
      "4      Bike\n",
      "       ... \n",
      "413    Bike\n",
      "414    Bike\n",
      "415     MTB\n",
      "416     MTB\n",
      "417    Bike\n",
      "Name: WorkoutType, Length: 418, dtype: object\n"
     ]
    }
   ],
   "source": [
    "import pandas as pd\n",
    "\n",
    "df = pd.read_csv(\"data/workouts.csv\")\n",
    "print(df.loc[6])#[\"TSS\"])\n",
    "\n",
    "#print(df)\n",
    "print(\"-----------------\")\n",
    "print(df.loc[df[\"WorkoutType\"]==\"Bike\"])\n",
    "print(\"=================\")\n",
    "print(df.iloc[3])\n",
    "print(df[\"WorkoutType\"])"
   ]
  },
  {
   "attachments": {},
   "cell_type": "markdown",
   "metadata": {},
   "source": [
    "# Using `loc`/`iloc` for everything?\n",
    "\n",
    "Many pandas programmers just use `loc` and `iloc` for everything but I will not.  Using them \"hides\" the underlying working of pandas and since we are here to learn, that doesn't suit us.  We will use it when we need to, but stick to square bracket notation as much as possible.  If you post a question on stack overflow you will probably get a `loc`/`iloc` based answer though, so we want to make sure you really know how they work."
   ]
  }
 ],
 "metadata": {
  "kernelspec": {
   "display_name": "Python 3",
   "language": "python",
   "name": "python3"
  },
  "language_info": {
   "codemirror_mode": {
    "name": "ipython",
    "version": 3
   },
   "file_extension": ".py",
   "mimetype": "text/x-python",
   "name": "python",
   "nbconvert_exporter": "python",
   "pygments_lexer": "ipython3",
   "version": "3.8.10"
  },
  "orig_nbformat": 4
 },
 "nbformat": 4,
 "nbformat_minor": 2
}
